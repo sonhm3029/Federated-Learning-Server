{
  "cells": [
    {
      "cell_type": "code",
      "execution_count": 104,
      "metadata": {
        "id": "WpgHgl2wJAai"
      },
      "outputs": [],
      "source": [
        "DATASET = \"/content/drive/MyDrive/ml_isofh/data/brain_tumor_2_8\"\n",
        "saved_model_dir = \"/content/drive/MyDrive/saved_model\""
      ]
    },
    {
      "cell_type": "code",
      "execution_count": 105,
      "metadata": {
        "id": "Quwfbr-0LvB4"
      },
      "outputs": [],
      "source": [
        "from tensorflow import keras\n",
        "import tensorflow as tf\n",
        "from tensorflow.keras.preprocessing.image import ImageDataGenerator\n",
        "\n",
        "import numpy as np\n",
        "import cv2\n",
        "import imutils\n",
        "import matplotlib.pyplot as plt"
      ]
    },
    {
      "cell_type": "code",
      "execution_count": 106,
      "metadata": {
        "id": "t2YFZ-WaJ3Gd"
      },
      "outputs": [],
      "source": [
        "\n",
        "\n",
        "IMG_SIZE = (160, 160)\n",
        "IMG_SHAPE = (160, 160, 3)\n",
        "MEAN = [0.23740229, 0.23729787, 0.23700129]\n",
        "STD = [0.23173477, 0.23151317, 0.23122775]\n",
        "\n",
        "preprocess_input = keras.applications.mobilenet_v2.preprocess_input\n",
        "\n",
        "inputs = keras.Input(shape=IMG_SIZE)\n",
        "base_model = keras.applications.MobileNetV2(\n",
        "    input_shape=IMG_SHAPE,\n",
        "    include_top=False\n",
        ")\n",
        "\n",
        "base_model.trainable = False\n",
        "global_average_layer = keras.layers.GlobalAveragePooling2D()\n",
        "prediction_layer = keras.layers.Dense(1)\n",
        "\n",
        "class ImagePreprocessLayer(tf.keras.layers.Layer):\n",
        "    def __init__(self):\n",
        "      super(ImagePreprocessLayer, self).__init__()\n",
        "    def call(self, img):\n",
        "      print(img)\n",
        "      img = tf.convert_to_tensor(img)\n",
        "      gray = cv2.cvtColor(img, cv2.COLOR_RGB2GRAY)\n",
        "      gray = cv2.GaussianBlur(gray, (5, 5), 0)\n",
        "      # threshold the image, then perform a series of erosions +\n",
        "      # dilations to remove any small regions of noise\n",
        "      thresh = cv2.threshold(gray, 60, 255, cv2.THRESH_BINARY)[1]\n",
        "      thresh = cv2.erode(thresh, None, iterations=2)\n",
        "      thresh = cv2.dilate(thresh, None, iterations=2)\n",
        "      # find contours in thresholded image, then grab the largest one\n",
        "      cnts = cv2.findContours(thresh.copy(), cv2.RETR_EXTERNAL, cv2.CHAIN_APPROX_SIMPLE)\n",
        "      cnts = imutils.grab_contours(cnts)\n",
        "      c = max(cnts, key=cv2.contourArea)\n",
        "      # find the extreme points\n",
        "      extLeft = tuple(c[c[:, :, 0].argmin()][0])\n",
        "      extRight = tuple(c[c[:, :, 0].argmax()][0])\n",
        "      extTop = tuple(c[c[:, :, 1].argmin()][0])\n",
        "      extBot = tuple(c[c[:, :, 1].argmax()][0])\n",
        "      ADD_PIXELS = 0\n",
        "      new_img = img[extTop[1]-ADD_PIXELS:extBot[1]+ADD_PIXELS, extLeft[0]-ADD_PIXELS:extRight[0]+ADD_PIXELS].copy()\n",
        "      return tf.convert_to_tensor(new_img)\n",
        "\n",
        "\n",
        "def img_enhanced(img):\n",
        "  print(type(img))\n",
        "  img = img.numpy()\n",
        "  print(img, \"OK\")\n",
        "\n",
        "  gray = cv2.cvtColor(img, cv2.COLOR_RGB2GRAY)\n",
        "  gray = cv2.GaussianBlur(gray, (5, 5), 0)\n",
        "  # threshold the image, then perform a series of erosions +\n",
        "  # dilations to remove any small regions of noise\n",
        "  thresh = cv2.threshold(gray, 60, 255, cv2.THRESH_BINARY)[1]\n",
        "  thresh = cv2.erode(thresh, None, iterations=2)\n",
        "  thresh = cv2.dilate(thresh, None, iterations=2)\n",
        "  # find contours in thresholded image, then grab the largest one\n",
        "  cnts = cv2.findContours(thresh.copy(), cv2.RETR_EXTERNAL, cv2.CHAIN_APPROX_SIMPLE)\n",
        "  cnts = imutils.grab_contours(cnts)\n",
        "  c = max(cnts, key=cv2.contourArea)\n",
        "  # find the extreme points\n",
        "  extLeft = tuple(c[c[:, :, 0].argmin()][0])\n",
        "  extRight = tuple(c[c[:, :, 0].argmax()][0])\n",
        "  extTop = tuple(c[c[:, :, 1].argmin()][0])\n",
        "  extBot = tuple(c[c[:, :, 1].argmax()][0])\n",
        "  ADD_PIXELS = add_pixels_value\n",
        "  new_img = img[extTop[1]-ADD_PIXELS:extBot[1]+ADD_PIXELS, extLeft[0]-ADD_PIXELS:extRight[0]+ADD_PIXELS].copy()\n",
        "  return new_img\n",
        "\n",
        "inputs = keras.Input(shape=IMG_SHAPE)\n",
        "x = preprocess_input(inputs)\n",
        "x = keras.layers.Normalization(mean=MEAN, variance=STD)(x)\n",
        "x = base_model(x, training=False)\n",
        "x = global_average_layer(x)\n",
        "x = keras.layers.Dropout(0.2)(x)\n",
        "outputs = prediction_layer(x)\n",
        "model = keras.Model(inputs, outputs)\n",
        "\n",
        "\n",
        "class Model(tf.Module):\n",
        "    def __init__(self):\n",
        "      self.model = model\n",
        "      self.model.compile(optimizer=tf.keras.optimizers.Adam(), loss=keras.losses.BinaryCrossentropy(from_logits=True))\n",
        "\n",
        "    @tf.function(input_signature=[\n",
        "        tf.TensorSpec([None, 160, 160, 3], tf.float32),\n",
        "        tf.TensorSpec([None, ], tf.float32),\n",
        "    ])\n",
        "    def train(self, x, y):\n",
        "      with tf.GradientTape() as tape:\n",
        "          pred = self.model(x)\n",
        "          loss = self.model.loss(y, pred)\n",
        "      gradients = tape.gradient(loss, self.model.trainable_variables)\n",
        "      self.model.optimizer.apply_gradients(\n",
        "          zip(gradients, self.model.trainable_variables))\n",
        "      result = {\"loss\": loss}\n",
        "      return result\n",
        "\n",
        "    @tf.function(input_signature=[tf.TensorSpec(shape=[], dtype=tf.string)])\n",
        "    def save(self, checkpoint_path):\n",
        "      tensor_names = [weight.name for weight in self.model.weights]\n",
        "      tensors_to_save = [weight.read_value() for weight in self.model.weights]\n",
        "      tf.raw_ops.Save(\n",
        "          filename=checkpoint_path, tensor_names=tensor_names,\n",
        "          data=tensors_to_save, name='save')\n",
        "      return {\n",
        "          \"checkpoint_path\": checkpoint_path\n",
        "      }\n",
        "\n",
        "    @tf.function(input_signature=[tf.TensorSpec(shape=[], dtype=tf.string)])\n",
        "    def restore(self, checkpoint_path):\n",
        "      restored_tensors = {}\n",
        "      for var in self.model.weights:\n",
        "          restored = tf.raw_ops.Restore(\n",
        "              file_pattern=checkpoint_path, tensor_name=var.name, dt=var.dtype,\n",
        "              name='restore')\n",
        "          var.assign(restored)\n",
        "          restored_tensors[var.name] = restored\n",
        "      return restored_tensors\n",
        "\n",
        "    @tf.function(input_signature=[\n",
        "      tf.TensorSpec(shape=[], dtype=tf.string)\n",
        "    ])\n",
        "    def get_trainable_weights(self,str=\"OK\"):\n",
        "      trainable_weights = [weight.read_value() for weight in self.model.trainable_weights]\n",
        "      return {\n",
        "          \"weights\": trainable_weights[0],\n",
        "          \"bias\": trainable_weights[1]\n",
        "      }\n",
        "\n",
        "    @tf.function(input_signature=[\n",
        "        tf.TensorSpec(shape=[1280, 1], dtype=tf.float32),\n",
        "        tf.TensorSpec(shape=[1,], dtype=tf.float32)\n",
        "    ])\n",
        "    def update_weights(self, w, b):\n",
        "      current_weight = self.model.trainable_variables;\n",
        "      new_weights = [w, b]\n",
        "      for current_val, new_val in zip(current_weight, new_weights):\n",
        "          current_val.assign(tf.convert_to_tensor(new_val, dtype=current_val.dtype))\n",
        "      return {\n",
        "          \"message\": tf.convert_to_tensor([0])\n",
        "      }\n",
        "\n",
        "\n",
        "\n",
        "    @tf.function(input_signature=[\n",
        "        tf.TensorSpec([None, 160, 160, 3], tf.float32)\n",
        "    ])\n",
        "    def infer(self, x):\n",
        "      logits = self.model(x)\n",
        "      probabilities = tf.nn.sigmoid(x)\n",
        "      return {\n",
        "          \"output\": probabilities,\n",
        "          \"logits\": logits\n",
        "      }\n",
        "\n",
        "    @tf.function(input_signature=[\n",
        "      tf.TensorSpec(shape=[], dtype=tf.string)\n",
        "    ])\n",
        "    def status(self, str):\n",
        "      return {\n",
        "          \"message\": tf.convert_to_tensor([1])\n",
        "      }\n",
        "\n",
        "    @tf.function(input_signature=[\n",
        "      tf.TensorSpec(shape=[], dtype=tf.string)\n",
        "    ])\n",
        "    def summary(self, str=\"OK\"):\n",
        "      return self.model.summary()\n"
      ]
    },
    {
      "cell_type": "code",
      "execution_count": 107,
      "metadata": {
        "id": "WQu1svO_MkZD"
      },
      "outputs": [],
      "source": [
        "classes = [\"NO\", \"YES\"]"
      ]
    },
    {
      "cell_type": "code",
      "execution_count": 108,
      "metadata": {
        "colab": {
          "base_uri": "https://localhost:8080/"
        },
        "id": "pvRffkEkKPoa",
        "outputId": "74fd45d0-dd35-4bff-c3c3-7b8b80a97850"
      },
      "outputs": [
        {
          "name": "stdout",
          "output_type": "stream",
          "text": [
            "Found 202 images belonging to 2 classes.\n",
            "Found 51 images belonging to 2 classes.\n"
          ]
        }
      ],
      "source": [
        "train_gen = ImageDataGenerator(\n",
        "    rotation_range=15,\n",
        "    width_shift_range=0.05,\n",
        "    height_shift_range=0.05,\n",
        "    rescale=1./255,\n",
        "    shear_range=0.05,\n",
        "    brightness_range=[0.1, 1.5],\n",
        "    horizontal_flip=True,\n",
        "    vertical_flip=True\n",
        "\n",
        ")\n",
        "test_gen = ImageDataGenerator(\n",
        "    rescale=1./255\n",
        ")\n",
        "\n",
        "train_batches = train_gen.flow_from_directory(\n",
        "    DATASET + \"/TRAIN\",\n",
        "    target_size=(160, 160),\n",
        "    class_mode='binary',\n",
        "    batch_size=4,\n",
        "    shuffle=True,\n",
        "    color_mode=\"rgb\",\n",
        "    classes=classes\n",
        ")\n",
        "\n",
        "test_batches = test_gen.flow_from_directory(\n",
        "    DATASET + \"/TEST\",\n",
        "    target_size=(160, 160),\n",
        "    class_mode='binary',\n",
        "    batch_size=4,\n",
        "    shuffle=False,\n",
        "    color_mode=\"rgb\",\n",
        "    classes=classes\n",
        ")"
      ]
    },
    {
      "cell_type": "code",
      "execution_count": 109,
      "metadata": {
        "colab": {
          "base_uri": "https://localhost:8080/"
        },
        "id": "rMhqYIrkYa0q",
        "outputId": "373fdc5a-6875-4f73-8943-0b8345169464"
      },
      "outputs": [
        {
          "data": {
            "text/plain": [
              "51"
            ]
          },
          "execution_count": 109,
          "metadata": {},
          "output_type": "execute_result"
        }
      ],
      "source": [
        "len(train_batches)"
      ]
    },
    {
      "cell_type": "code",
      "execution_count": 110,
      "metadata": {
        "colab": {
          "base_uri": "https://localhost:8080/"
        },
        "id": "N_APG4ACp6gA",
        "outputId": "2bb4144c-cf28-46fd-83cb-d7b9b2f97846"
      },
      "outputs": [
        {
          "name": "stdout",
          "output_type": "stream",
          "text": [
            "Model: \"model_6\"\n",
            "_________________________________________________________________\n",
            " Layer (type)                Output Shape              Param #   \n",
            "=================================================================\n",
            " input_21 (InputLayer)       [(None, 160, 160, 3)]     0         \n",
            "                                                                 \n",
            " tf.math.truediv_6 (TFOpLamb  (None, 160, 160, 3)      0         \n",
            " da)                                                             \n",
            "                                                                 \n",
            " tf.math.subtract_6 (TFOpLam  (None, 160, 160, 3)      0         \n",
            " bda)                                                            \n",
            "                                                                 \n",
            " normalization_6 (Normalizat  (None, 160, 160, 3)      0         \n",
            " ion)                                                            \n",
            "                                                                 \n",
            " mobilenetv2_1.00_160 (Funct  (None, 5, 5, 1280)       2257984   \n",
            " ional)                                                          \n",
            "                                                                 \n",
            " global_average_pooling2d_6   (None, 1280)             0         \n",
            " (GlobalAveragePooling2D)                                        \n",
            "                                                                 \n",
            " dropout_6 (Dropout)         (None, 1280)              0         \n",
            "                                                                 \n",
            " dense_6 (Dense)             (None, 1)                 1281      \n",
            "                                                                 \n",
            "=================================================================\n",
            "Total params: 2,259,265\n",
            "Trainable params: 1,281\n",
            "Non-trainable params: 2,257,984\n",
            "_________________________________________________________________\n"
          ]
        }
      ],
      "source": [
        "model.summary()"
      ]
    },
    {
      "cell_type": "code",
      "execution_count": 111,
      "metadata": {
        "id": "D3kbq90bM7sY"
      },
      "outputs": [],
      "source": [
        "NUM_EPOCHS = 100\n",
        "step_per_epochs = len(train_batches)\n",
        "epochs = np.arange(1, NUM_EPOCHS + 1, 1)\n",
        "losses = np.zeros([NUM_EPOCHS])\n",
        "m = Model()\n",
        "\n",
        "for i in range(NUM_EPOCHS):\n",
        "  print(f\"Training epoch {i + 1}/{NUM_EPOCHS}\")\n",
        "  for step, (x,y) in enumerate(train_batches):\n",
        "    if (step+1) == step_per_epochs:\n",
        "      break\n",
        "    result = m.train(x, y)\n",
        "    trainable_weights = m.get_trainable_weights()\n",
        "    trainable_weights = [weight.numpy() for weight in trainable_weights]\n",
        "\n",
        "    msg = m.update_weights(trainable_weights[0], trainable_weights[1])\n",
        "  losses[i] = result['loss']\n",
        "  if (i + 1) % 10 == 0:\n",
        "    print(f\"Finished {i+1} epochs\")\n",
        "    print(f\"  loss: {losses[i]:.3f}\")\n",
        "\n",
        "# Save the trained weights to a checkpoint.\n",
        "m.save('/tmp/model.ckpt')"
      ]
    },
    {
      "cell_type": "code",
      "execution_count": 112,
      "metadata": {
        "colab": {
          "base_uri": "https://localhost:8080/"
        },
        "id": "WI_WY8fzgVJm",
        "outputId": "ef6f01da-1ae8-4013-cc07-ad86cf60f358"
      },
      "outputs": [
        {
          "data": {
            "text/plain": [
              "[1]"
            ]
          },
          "execution_count": 112,
          "metadata": {},
          "output_type": "execute_result"
        }
      ],
      "source": [
        "params = m.get_trainable_weights()\n",
        "weights = params[\"bias\"]\n",
        "list(weights.numpy().shape)"
      ]
    },
    {
      "cell_type": "code",
      "execution_count": 113,
      "metadata": {
        "colab": {
          "base_uri": "https://localhost:8080/",
          "height": 449
        },
        "id": "YDNMMXstf4NR",
        "outputId": "c3f51ac3-5a10-453d-89cc-44762d1f98cc"
      },
      "outputs": [
        {
          "data": {
            "image/png": "[encoded data removed]",
            "text/plain": [
              "<Figure size 640x480 with 1 Axes>"
            ]
          },
          "metadata": {},
          "output_type": "display_data"
        }
      ],
      "source": [
        "plt.plot(epochs, losses, label='Pre-training')\n",
        "plt.ylim([0, max(plt.ylim())])\n",
        "plt.xlabel('Epoch')\n",
        "plt.ylabel('Loss [Cross Entropy]')\n",
        "plt.legend();"
      ]
    },
    {
      "cell_type": "code",
      "execution_count": 113,
      "metadata": {
        "id": "5ztdDKjo7_sN"
      },
      "outputs": [],
      "source": []
    },
    {
      "cell_type": "code",
      "execution_count": 114,
      "metadata": {
        "colab": {
          "base_uri": "https://localhost:8080/"
        },
        "id": "RGUxuiHvhL2P",
        "outputId": "cd51f051-e2c0-4118-882e-91715a81f0c4"
      },
      "outputs": [
        {
          "name": "stdout",
          "output_type": "stream",
          "text": [
            "Model: \"model_6\"\n",
            "_________________________________________________________________\n",
            " Layer (type)                Output Shape              Param #   \n",
            "=================================================================\n",
            " input_21 (InputLayer)       [(None, 160, 160, 3)]     0         \n",
            "                                                                 \n",
            " tf.math.truediv_6 (TFOpLamb  (None, 160, 160, 3)      0         \n",
            " da)                                                             \n",
            "                                                                 \n",
            " tf.math.subtract_6 (TFOpLam  (None, 160, 160, 3)      0         \n",
            " bda)                                                            \n",
            "                                                                 \n",
            " normalization_6 (Normalizat  (None, 160, 160, 3)      0         \n",
            " ion)                                                            \n",
            "                                                                 \n",
            " mobilenetv2_1.00_160 (Funct  (None, 5, 5, 1280)       2257984   \n",
            " ional)                                                          \n",
            "                                                                 \n",
            " global_average_pooling2d_6   (None, 1280)             0         \n",
            " (GlobalAveragePooling2D)                                        \n",
            "                                                                 \n",
            " dropout_6 (Dropout)         (None, 1280)              0         \n",
            "                                                                 \n",
            " dense_6 (Dense)             (None, 1)                 1281      \n",
            "                                                                 \n",
            "=================================================================\n",
            "Total params: 2,259,265\n",
            "Trainable params: 1,281\n",
            "Non-trainable params: 2,257,984\n",
            "_________________________________________________________________\n"
          ]
        },
        {
          "name": "stderr",
          "output_type": "stream",
          "text": [
            "WARNING:absl:Found untraced functions such as _jit_compiled_convolution_op, _jit_compiled_convolution_op, _jit_compiled_convolution_op, _jit_compiled_convolution_op, _jit_compiled_convolution_op while saving (showing 5 of 52). These functions will not be directly callable after loading.\n",
            "WARNING:absl:Importing a function (__inference_internal_grad_fn_687928) with ops with unsaved custom gradients. Will likely fail if a gradient is requested.\n",
            "WARNING:absl:Importing a function (__inference_internal_grad_fn_687944) with ops with unsaved custom gradients. Will likely fail if a gradient is requested.\n"
          ]
        }
      ],
      "source": [
        "SAVED_MODEL_DIR = saved_model_dir\n",
        "\n",
        "tf.saved_model.save(\n",
        "    m,\n",
        "    SAVED_MODEL_DIR,\n",
        "    signatures={\n",
        "        'train':\n",
        "            m.train.get_concrete_function(),\n",
        "        '0_infer':\n",
        "            m.infer.get_concrete_function(),\n",
        "        'save':\n",
        "            m.save.get_concrete_function(),\n",
        "        'restore':\n",
        "            m.restore.get_concrete_function(),\n",
        "        \"get_trainable_weights\":\n",
        "            m.get_trainable_weights.get_concrete_function(),\n",
        "        \"update_weights\":\n",
        "            m.update_weights.get_concrete_function(),\n",
        "        \"status\":\n",
        "            m.status.get_concrete_function()\n",
        "    })\n",
        "\n",
        "# Convert the model\n",
        "converter = tf.lite.TFLiteConverter.from_saved_model(SAVED_MODEL_DIR)\n",
        "converter.target_spec.supported_ops = [\n",
        "    tf.lite.OpsSet.TFLITE_BUILTINS,  # enable TensorFlow Lite ops.\n",
        "    tf.lite.OpsSet.SELECT_TF_OPS  # enable TensorFlow ops.\n",
        "]\n",
        "converter.experimental_enable_resource_variables = True\n",
        "tflite_model = converter.convert()"
      ]
    },
    {
      "cell_type": "code",
      "execution_count": 115,
      "metadata": {
        "id": "eyWdKiUthfIo"
      },
      "outputs": [],
      "source": [
        "interpreter = tf.lite.Interpreter(model_content=tflite_model)\n",
        "interpreter.allocate_tensors()\n",
        "\n",
        "infer = interpreter.get_signature_runner(\"0_infer\")"
      ]
    },
    {
      "cell_type": "code",
      "execution_count": 116,
      "metadata": {
        "colab": {
          "base_uri": "https://localhost:8080/"
        },
        "id": "wX-Clh755iqI",
        "outputId": "252a3798-22c5-477a-d6e8-83f5d59f9052"
      },
      "outputs": [
        {
          "name": "stdout",
          "output_type": "stream",
          "text": [
            "input details [{'name': '0_infer_x:0', 'index': 0, 'shape': array([  1, 160, 160,   3], dtype=int32), 'shape_signature': array([ -1, 160, 160,   3], dtype=int32), 'dtype': <class 'numpy.float32'>, 'quantization': (0.0, 0), 'quantization_parameters': {'scales': array([], dtype=float32), 'zero_points': array([], dtype=int32), 'quantized_dimension': 0}, 'sparsity_parameters': {}}]\n",
            "ouput details [{'name': 'StatefulPartitionedCall:0', 'index': 1044, 'shape': array([1, 1], dtype=int32), 'shape_signature': array([-1,  1], dtype=int32), 'dtype': <class 'numpy.float32'>, 'quantization': (0.0, 0), 'quantization_parameters': {'scales': array([], dtype=float32), 'zero_points': array([], dtype=int32), 'quantized_dimension': 0}, 'sparsity_parameters': {}}, {'name': 'StatefulPartitionedCall:1', 'index': 554, 'shape': array([  1, 160, 160,   3], dtype=int32), 'shape_signature': array([ -1, 160, 160,   3], dtype=int32), 'dtype': <class 'numpy.float32'>, 'quantization': (0.0, 0), 'quantization_parameters': {'scales': array([], dtype=float32), 'zero_points': array([], dtype=int32), 'quantized_dimension': 0}, 'sparsity_parameters': {}}]\n"
          ]
        }
      ],
      "source": [
        "\n",
        "input_details = interpreter.get_input_details()\n",
        "output_details = interpreter.get_output_details()\n",
        "\n",
        "print(\"input details\", input_details)\n",
        "print(\"ouput details\", output_details)"
      ]
    },
    {
      "cell_type": "code",
      "execution_count": 117,
      "metadata": {
        "colab": {
          "base_uri": "https://localhost:8080/"
        },
        "id": "_JK7EDOqhp_4",
        "outputId": "8e7a06f1-f6de-43ea-96a2-22eb361a7778"
      },
      "outputs": [
        {
          "data": {
            "text/plain": [
              "(4, 160, 160, 3)"
            ]
          },
          "execution_count": 117,
          "metadata": {},
          "output_type": "execute_result"
        }
      ],
      "source": [
        "train_batches[0][0].shape"
      ]
    },
    {
      "cell_type": "code",
      "execution_count": 118,
      "metadata": {
        "id": "T3J1EwWghiKQ"
      },
      "outputs": [],
      "source": [
        "logits_original = m.infer(x=train_batches[0][0][:1])['logits'][0]\n",
        "logits_lite = infer(x=train_batches[0][0][:1])['logits'][0]"
      ]
    },
    {
      "cell_type": "code",
      "execution_count": 119,
      "metadata": {
        "colab": {
          "base_uri": "https://localhost:8080/"
        },
        "id": "Pm4MOnyRjOAJ",
        "outputId": "e10dda83-0371-4a54-f5b8-ef20d8e52da8"
      },
      "outputs": [
        {
          "data": {
            "text/plain": [
              "<tf.Tensor: shape=(1,), dtype=float32, numpy=array([-0.45052153], dtype=float32)>"
            ]
          },
          "execution_count": 119,
          "metadata": {},
          "output_type": "execute_result"
        }
      ],
      "source": [
        "logits_original"
      ]
    },
    {
      "cell_type": "code",
      "execution_count": 120,
      "metadata": {
        "colab": {
          "base_uri": "https://localhost:8080/",
          "height": 489
        },
        "id": "QepvP1oLiBiY",
        "outputId": "c61f34e1-7132-4350-b1e9-f2be71fc0fa3"
      },
      "outputs": [
        {
          "name": "stdout",
          "output_type": "stream",
          "text": [
            "[0.]\n"
          ]
        },
        {
          "data": {
            "image/png": "[encoded data removed]",
            "text/plain": [
              "<Figure size 640x480 with 1 Axes>"
            ]
          },
          "metadata": {},
          "output_type": "display_data"
        }
      ],
      "source": [
        "#@title\n",
        "def compare_logits(logits):\n",
        "  width = 0.35\n",
        "  offset = width/2\n",
        "  assert len(logits)==2\n",
        "\n",
        "  keys = list(logits.keys())\n",
        "  print(np.arange(len(logits[keys[0]]) - offset))\n",
        "  plt.bar(x = np.arange(len(logits[keys[0]]))-offset,\n",
        "      height=logits[keys[0]], width=0.35, label=keys[0])\n",
        "  plt.bar(x = np.arange(len(logits[keys[1]]))+offset,\n",
        "      height=logits[keys[1]], width=0.35, label=keys[1])\n",
        "  plt.legend()\n",
        "  plt.grid(True)\n",
        "  plt.ylabel('Logit')\n",
        "  plt.xlabel('ClassID')\n",
        "\n",
        "  delta = np.sum(np.abs(logits[keys[0]] - logits[keys[1]]))\n",
        "  plt.title(f\"Total difference: {delta:.3g}\")\n",
        "\n",
        "compare_logits({'Original': logits_original, 'Lite': logits_lite})"
      ]
    },
    {
      "cell_type": "code",
      "execution_count": 121,
      "metadata": {
        "id": "kazIndhEbiR-"
      },
      "outputs": [],
      "source": [
        "import os"
      ]
    },
    {
      "cell_type": "code",
      "execution_count": 122,
      "metadata": {
        "colab": {
          "base_uri": "https://localhost:8080/"
        },
        "id": "jgz0rGHqbeV4",
        "outputId": "e193ed06-941a-4438-f9b0-a6e2f0df6237"
      },
      "outputs": [
        {
          "name": "stderr",
          "output_type": "stream",
          "text": [
            "WARNING:absl:Importing a function (__inference_internal_grad_fn_687928) with ops with unsaved custom gradients. Will likely fail if a gradient is requested.\n",
            "WARNING:absl:Importing a function (__inference_internal_grad_fn_687944) with ops with unsaved custom gradients. Will likely fail if a gradient is requested.\n"
          ]
        }
      ],
      "source": [
        "converter = tf.lite.TFLiteConverter.from_saved_model(saved_model_dir)\n",
        "converter.target_spec.supported_ops = [\n",
        "    tf.lite.OpsSet.TFLITE_BUILTINS,  # enable TensorFlow Lite ops.\n",
        "    tf.lite.OpsSet.SELECT_TF_OPS  # enable TensorFlow ops.\n",
        "]\n",
        "converter.experimental_enable_resource_variables = True\n",
        "tflite_model = converter.convert()\n",
        "\n",
        "model_file_path = os.path.join('model.tflite')\n",
        "with open(model_file_path, 'wb') as model_file:\n",
        "  model_file.write(tflite_model)"
      ]
    },
    {
      "cell_type": "code",
      "execution_count": 123,
      "metadata": {
        "colab": {
          "base_uri": "https://localhost:8080/"
        },
        "id": "D5hBkXG93-rQ",
        "outputId": "4acf7e4e-e142-42f1-db66-6acdb6b6c681"
      },
      "outputs": [
        {
          "data": {
            "text/plain": [
              "{'weights': <tf.Tensor: shape=(1280, 1), dtype=float32, numpy=\n",
              " array([[-0.05577274],\n",
              "        [ 0.05958915],\n",
              "        [-0.02664865],\n",
              "        ...,\n",
              "        [-0.01039295],\n",
              "        [ 0.01731323],\n",
              "        [-0.04888375]], dtype=float32)>,\n",
              " 'bias': <tf.Tensor: shape=(1,), dtype=float32, numpy=array([0.], dtype=float32)>}"
            ]
          },
          "execution_count": 123,
          "metadata": {},
          "output_type": "execute_result"
        }
      ],
      "source": [
        "m.get_trainable_weights()"
      ]
    }
  ],
  "metadata": {
    "accelerator": "GPU",
    "colab": {
      "provenance": []
    },
    "kernelspec": {
      "display_name": "Python 3",
      "name": "python3"
    },
    "language_info": {
      "name": "python"
    }
  },
  "nbformat": 4,
  "nbformat_minor": 0
}
